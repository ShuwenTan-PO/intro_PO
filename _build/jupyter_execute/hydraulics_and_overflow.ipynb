{
 "cells": [
  {
   "cell_type": "markdown",
   "metadata": {},
   "source": [
    "# Hydraulics and Overflow\n",
    "\n",
    "From Wikipedia, the word \"[hydraulics](https://en.wikipedia.org/wiki/Hydraulics)\" originates from the Greek word: ὑδραυλικός (hydraulikos), with its first part ὕδωρ (hydor) meaning water and the second part αὐλός (aulos) meaning pipe. It somewhat speaks the essence of hydraulics, which requires a moving fluid (through a pipe, over a dam, etc.) and thus is different from hydrostatics. When a fluid moves, especailly over topography, transformation may occur between kinetic energy and potential energy (may also between interal energy/heat when friction/viscosity is involved), which renders rich and exciting physical phenomena. In this lecture, we will discuss two classic hydraulic phenomena: **hydraulic control** and **hydraulic jump**.\n",
    "\n",
    "<figure>\n",
    "    <a title=\"See page for author, Public domain, via Wikimedia Commons\" href=\"https://commons.wikimedia.org/wiki/File:Table_of_Hydraulics_and_Hydrostatics,_Cyclopaedia,_Volume_1.jpg\"><img width=\"280\" alt=\"Hydraulic and Hydrostatic\" src=\"https://upload.wikimedia.org/wikipedia/commons/e/e4/Table_of_Hydraulics_and_Hydrostatics%2C_Cyclopaedia%2C_Volume_1.jpg\"></a>\n",
    "    <figcaption>Hydraulic and Hydrostatic, See page for author, Public domain, via Wikimedia Commons.</figcaption>\n",
    "</figure>\n",
    "\n",
    "Watch the below video and notice how the water moves:\n",
    "\n",
    "[![hydraulics in a tank](https://img.youtube.com/vi/nX6aemsdFIo/0.jpg)](https://www.youtube.com/watch?v=nX6aemsdFIo \"hydraulics in a tank\")\n",
    "\n",
    "I hope you noticed the water level shows asymmetry: high to the left of the obstacle and low to the right of the obstacle. Or maybe you even noticed the Pingpong ball moves very slow to the left of the obstacle and cascades down as it crosses the obstacle. You may also noticed the \"boiling\" waters further downstreams where the Pingpang ball gets trapped and rolls. Then congratulations, you have identified some of the most important hydraulic phenomena:\n",
    "- the flow is **hydraulically controlled** by topography\n",
    "- the flow transfer from **subcritical** to **critical** to **supercritical** as it crosses the obstacle crest\n",
    "- at the base of the spillway is a **hydraulic jump**, an abrupt increase in the fluid depth accompanied by intense turbulence\n"
   ]
  },
  {
   "cell_type": "markdown",
   "metadata": {},
   "source": [
    "But \n",
    "> what do geophysicists mean when they talk about hydraulics and why should one listen? - Pratt and Whithead (2008)\n",
    "\n",
    "- the ocean moves and the seabed is not flat: passages, channels, straits, ...\n",
    "- topography \"controls\" the volume flow rate and the reservoir level\n",
    "- \"mixing hotspot\" due to hydraulic jump \n",
    "\n",
    "<figure>\n",
    "    <a title=\"Fig. 18.4.8 in Earle and Panchuk (2019)\" href=\"https://opentextbc.ca/physicalgeology2ed/\"><img width=\"480\" alt=\"Flat bottom ocean not true\" src=\"https://opentextbc.ca/physicalgeology2ed/wp-content/uploads/sites/298/2019/08/vertical-movement-of-water-along-a-north-south-cross-section.png\"></a>\n",
    "    <figcaption>Fig. 18.4.8 in Earle and Panchuk (2019): Schematics of major ocean masses, the ocean bottom in the schematics is flat, which is not true.  </figcaption>\n",
    "</figure>\n",
    "\n",
    "<figure>\n",
    "    <a title=\"Fig. 1 in Bryden and Nurser (2003)\" href=\"https://journals.ametsoc.org/view/journals/phoc/33/8/1520-0485_2003_033_1870_eosmoo_2.0.co_2.xml\"><img width=\"480\" alt=\"Ocean basins divided by straits\" src=\"../hydraulics/Fig1_Bryden_Nurser2003.png\"></a>\n",
    "    <figcaption>Fig. 1 in Bryden and Nurser (2003): Schematic model for the effects of strait mixing on the properties of bottom water. </figcaption>\n",
    "</figure>\n"
   ]
  },
  {
   "cell_type": "markdown",
   "metadata": {},
   "source": [
    "## Hydraulic Control\n",
    "\n",
    "### Theory\n",
    "\n",
    "#### Shallow water waves\n",
    "\n",
    "<figure>\n",
    "    <img src=\"../hydraulics/sand_wave_Guam_vertical.jpg\" \n",
    "         width=\"400\" \n",
    "         alt=\"\">\n",
    "    <figcaption>Sand Ripples by S.Tan, Alupang Beach Tower, Guam.</figcaption>\n",
    "</figure>\n",
    "\n",
    "<figure>\n",
    "    <img src=\"../hydraulics/Shallow_water_wave.gif\" \n",
    "         width=\"400\" \n",
    "         alt=\"\">\n",
    "    <figcaption>Shallow Water Wave, Animations by Kraaiennest, Wikimedia Commons, Creative Commons A S-A 3.0, http://commons.wikimedia.org/wiki/File:Deep_water_wave.gif and http://commons.wikimedia.org/wiki/File:Shallow_water_wave.gif.</figcaption>\n",
    "</figure>\n",
    "\n",
    "<figure>\n",
    "    <img src=\"../hydraulics/Deep_water_wave.gif\" \n",
    "         width=\"400\" \n",
    "         alt=\"\">\n",
    "    <figcaption>Deep Water Wave, Animations by Kraaiennest, Wikimedia Commons, Creative Commons A S-A 3.0, http://commons.wikimedia.org/wiki/File:Deep_water_wave.gif and http://commons.wikimedia.org/wiki/File:Shallow_water_wave.gif.</figcaption>\n",
    "</figure>\n",
    "\n",
    "Shallow water wave speed\n",
    "\n",
    "$$\n",
    "c=\\sqrt{gH}\n",
    "$$\n",
    "\n",
    "#### Who is faster, the currents or the waves? \n",
    "\n",
    "<figure>\n",
    "    <video width=\"480\" controls src=\"../hydraulics/Froude_dude.mov\">animation</video>\n",
    "    <figcaption>From Australian Water School “Webinar: Froude, Dude!” https://awschool.com.au/training/webinar-froude-dude/</figcaption>\n",
    "</figure>\n",
    "\n",
    "<!-- <a title=\"See page for author, Public domain, via Wikimedia Commons\" href=\"https://commons.wikimedia.org/wiki/File:Williams_Froude.jpeg\"><img width=\"128\" alt=\"Williams Froude\" src=\"https://upload.wikimedia.org/wikipedia/commons/6/64/Williams_Froude.jpeg\"></a> -->\n",
    "\n",
    "$$\n",
    "\\text{Froude Number}: F_r = \\frac{\\text{wave speed}}{\\text{flow speed}}\n",
    "$$\n",
    "\n",
    "<figure>\n",
    "    <a title=\"Fr=1 illustration by Dr. Mirjam S. Glessmer\" href=\"https://mirjamglessmer.com/tag/hydraulic-jump/\"><img width=\"480\" alt=\"Fr = 1\" src=\"hydraulics/Fr1.gif\"></a>\n",
    "    <figcaption>Fr=1 illustration by Dr. Mirjam S. Glessmer. </figcaption>\n",
    "</figure>\n",
    "\n",
    "#### Subcritical, critical, supercritical\n",
    "<figure>\n",
    "    <img width=\"960\" alt=\"hydraulic transition from subcritical to critical to supercritical\" src=\"../hydraulics/hydraulic_transition.png\">\n",
    "    <figcaption>Hydraulic transition from subcritical to critical to supercritical at the sill, from supercritical to subcritical crossing the dissipative hydraulic jump. </figcaption>\n",
    "</figure>\n",
    "\n",
    "<figure>\n",
    "    <a title=\"Hydraulic control illustration by Dr. Mirjam S. Glessmer\" href=\"https://mirjamglessmer.com/tag/hydraulic-jump/\">\n",
    "    <video width=\"480\" controls src=\"../hydraulics/weir_pinnau_2016.mp4\">animation</video></a>\n",
    "    <figcaption>Wave illustrations by Mirjam S. Glessmer, https://mirjamglessmer.com/2016/02/11/observing-hydrodynamic-phenomena-on-a-creek/</figcaption>\n",
    "</figure>\n",
    "\n",
    "#### Weir Formula\n",
    "<!-- $$\n",
    "Q=(\\frac{2}{3})^{\\frac{3}{2}}wg^{\\frac{1}{2}}\\Delta z^{\\frac{3}{2}}\n",
    "$$ -->\n",
    "\n",
    "<figure>\n",
    "    <img width=\"480\" alt=\"weir formula\" src=\"../hydraulics/weir_formula.png\"></a>\n",
    "    <figcaption>Weir formula: transport of a hydraulically controlled flow being a function of channel width $w$, reduced gravity $g'=\\frac{\\Delta \\rho}{\\rho_0}g$, and the height difference between the interface of the overflow and the sill top. </figcaption>\n",
    "</figure>\n",
    "\n",
    "This allows oceanographers to estimate the transport of overflows without expensive and technically difficult velocity measurements. \n",
    "\n",
    "<!-- print('Samoan Passage parameters for example: ')\n",
    "w = float(input(\"What's the channel width w [km]? \"))\n",
    "g = float(input(\"What's the reduced gravity g' [ms^-2]? \"))\n",
    "hu = float(input(\"What's the height difference between the upstream interface and the sill top h_u [m]? \"))\n",
    "Q = (2/3)**(3/2)*w*1000*g**(1/2)*hu**(3/2)*1e-6 \n",
    "print(f\"Estimated transport for hydraulically controlled flow = {Q} Sv\") -->"
   ]
  },
  {
   "cell_type": "markdown",
   "metadata": {},
   "source": [
    "### Overflow applications\n",
    "\n",
    "\n",
    "#### Application 1: transport estimate\n",
    "<figure>\n",
    "    <a title=\"Fig. 2.1 in Morozov et al. (2021)\" href=\"https://link.springer.com/book/10.1007/978-3-030-83074-8\">\n",
    "    <img width=\"480\" alt=\"passages in the Atlantic Ocean\" src=\"../hydraulics/passage_Atlantic_Morozov2021.png\"></a>\n",
    "    <figcaption>Fig. 2.1 in Morozov et al. (2021) Bottom topography and main deep cataracts of the Atlantic Ocean. Red and magenta ellipses show the cataracts related and not related to the propagation of Antarctic waters in the abyss of the World Ocean. The arrows show the general direction of the flow in the cataracts. Deep blue numerals in circles indicate: (1) Drake Passage, (2) Falkland Trough (3) Georgia Basin, (4) Guinea Basin, (5) Sierra Leone Basin, (6) Cape Verde Basin, (7) Guiana Basin, (8) Madeira Basin, (9) Iberian Basin, (10) West European Basin. Brown letters in circles indicate: (a) North Weddell Ridge, (b) Southwest Indian Ridge, (c) Islas Orcadas Rise, (d) Falkland Plateau, (e) Zapiola Ridge, (f) Shona Ridge, (g) Meteor Rise, (h) Agulhas Ridge (i) Newfoundland Bank. </figcaption>\n",
    "</figure>\n",
    "\n",
    "#### Application 2: long-term transport\n",
    "\n",
    "<figure>\n",
    "    <a title=\"Denmark Strait topography changes\" href=\"https://agupubs.onlinelibrary.wiley.com/doi/10.1029/2003pa000972\">\n",
    "    <img width=\"960\" alt=\"Denmark Strait changes\" src=\"../hydraulics/weir_formula_history.png\"></a>\n",
    "    <figcaption>Adapted from Fig. 1 in K$\\ddot{o}$sters et al. (2003). Morden era allows more overflow flux. </figcaption>\n",
    "</figure>\n"
   ]
  },
  {
   "cell_type": "markdown",
   "metadata": {},
   "source": [
    "## Hydraulic Jump\n"
   ]
  },
  {
   "cell_type": "markdown",
   "metadata": {},
   "source": [
    "<figure>\n",
    "    <a title=\"Canal Surfing in Munich\" href=\"https://www.youtube.com/watch?v=zjZUqmHe838&t=2s\">\n",
    "    <video width=\"480\" controls src=\"../hydraulics/river_surfing.mp4\">animation</video></a>\n",
    "    <figcaption>Canal Surfing in Munich, notice the hydraulic jump.</figcaption>\n",
    "</figure>\n"
   ]
  },
  {
   "cell_type": "markdown",
   "metadata": {},
   "source": []
  },
  {
   "cell_type": "markdown",
   "metadata": {},
   "source": [
    "## To ease your burning curiosity\n",
    "contact me! shuwent@ldeo.columbia.edu\n",
    "- for the pdf of materials\n",
    "- to join my annual to decadal time scale book reading group\n",
    "\n",
    "### Books\n",
    "[**Rotating Hydraulics \\- Nonlinear Topographic Effects in the Ocean and Atmosphere** by Pratt and Whithead](https://www2.whoi.edu/staff/lpratt/textbook-on-rotating-hydraulics/) <br /> - for hydraulics overview and ocean application: *[Introduction](https://www2.whoi.edu/staff/lpratt/wp-content/uploads/sites/120/2019/06/PrattIntroFigsI1-I2_78844.pdf)*, *[section 2.14](https://www2.whoi.edu/staff/lpratt/wp-content/uploads/sites/120/2019/07/PrattSec2.14_11964.pdf)* <br /> - for the essence of hydraulics (wave \\& flow): *section 1.1-1.4*\n",
    "<br />\n",
    "[**Bottom Gravity Currents and Overflows in Deep Channels of the Atlantic Ocean** by Morozov et al.](https://link.springer.com/book/10.1007/978-3-030-83074-8) <br /> - for a comprehensive review of ocean passages/straits and overflow\n",
    "<br />\n",
    "[**Linear and Nonlinear Waves** by Whitham](https://onlinelibrary.wiley.com/doi/book/10.1002/9781118032954) <br /> - for those who wants to look into the math behind waves and hydraulics\n",
    "<br /> \n",
    "[**Topographic Effects in Stratified Flows** by Baines](https://assets.cambridge.org/97811084/81526/frontmatter/9781108481526_frontmatter.pdf) <br /> - a challenging book to read, no pdf, but I have a hard copy you can borrow from\n",
    "\n",
    "### Papers\n",
    "[**Turbulent mixing and hydraulic control of abyssal water in the Samoan Passage** by Alford et al.](https://agupubs.onlinelibrary.wiley.com/doi/full/10.1002/grl.50684) <br /> - hydraulic control and jump found in Samoan Passage <br /> \n",
    "[**Modelling the Föhn in the MIM Laboratory** by Josef Schröttle](https://minigcm.org/ba.pdf) <br /> - undergrad thesis, great review on hydraulics\n",
    "<br />\n",
    "[**Hydraulic Jump: A Brief History and Research Challenges** by De Padova and Mossa](https://www.mdpi.com/2073-4441/13/13/1733) <br /> - for a brief history of hydraulic jump, from engineering perspectives\n",
    "\n",
    "### Videos!\n",
    "[National Committee for Fluid Mechanics Films (NCFMF)](http://web.mit.edu/hml/ncfmf.html) (strongly recommended for anyone who are interested in fluid mechanics, art \\& masterpiece) <br /> - for waves \\& hydraulics [Stratified Flow](https://www.youtube.com/watch?v=9hmjcIfy8wE&list=PL0EC6527BE871ABA3&index=19), you will see the famous **[Robert Long](https://onlinebooks.library.upenn.edu/webbin/book/lookupname?key=Daugherty%2C%20Robert%20L%2E%20%28Robert%20Long%29%2C%201885%2D)'s towing experiment**!"
   ]
  },
  {
   "cell_type": "code",
   "execution_count": null,
   "metadata": {},
   "outputs": [],
   "source": []
  }
 ],
 "metadata": {
  "kernelspec": {
   "display_name": "goship",
   "language": "python",
   "name": "goship"
  },
  "language_info": {
   "codemirror_mode": {
    "name": "ipython",
    "version": 3
   },
   "file_extension": ".py",
   "mimetype": "text/x-python",
   "name": "python",
   "nbconvert_exporter": "python",
   "pygments_lexer": "ipython3",
   "version": "3.9.6"
  },
  "widgets": {
   "application/vnd.jupyter.widget-state+json": {
    "state": {},
    "version_major": 2,
    "version_minor": 0
   }
  }
 },
 "nbformat": 4,
 "nbformat_minor": 4
}