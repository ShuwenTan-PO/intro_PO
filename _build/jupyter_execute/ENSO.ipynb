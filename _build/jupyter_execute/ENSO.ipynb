{
 "cells": [
  {
   "cell_type": "markdown",
   "metadata": {},
   "source": [
    "# ENSO, and \"A Tale of Two El Ni$\\tilde{n}o$s\"\n"
   ]
  },
  {
   "cell_type": "markdown",
   "metadata": {},
   "source": [
    "> When you can measure what you are speaking about and express it in numbers,\n",
    "then you know something about it. <div style=\"text-align: right\"> — Lord Kelvin, 1883 </div>\n"
   ]
  },
  {
   "cell_type": "markdown",
   "metadata": {},
   "source": [
    "## Tale 1: We didn't see the El Ni$\\tilde{n}o$ coming.\n",
    "> The un-noticed 1982 El Ni$\\tilde{n}$o"
   ]
  },
  {
   "cell_type": "markdown",
   "metadata": {},
   "source": []
  },
  {
   "cell_type": "markdown",
   "metadata": {},
   "source": [
    "## Tale 2: El Ni$\\tilde{n}o$'s coming! Oops, false alarm.\n",
    "> The failed 2014 El Ni$\\tilde{n}$o and the odd 2015 Ni$\\tilde{n}$o"
   ]
  },
  {
   "cell_type": "markdown",
   "metadata": {},
   "source": []
  }
 ],
 "metadata": {
  "kernelspec": {
   "display_name": "Python 3 (ipykernel)",
   "language": "python",
   "name": "python3"
  },
  "language_info": {
   "codemirror_mode": {
    "name": "ipython",
    "version": 3
   },
   "file_extension": ".py",
   "mimetype": "text/x-python",
   "name": "python",
   "nbconvert_exporter": "python",
   "pygments_lexer": "ipython3",
   "version": "3.9.6"
  },
  "widgets": {
   "application/vnd.jupyter.widget-state+json": {
    "state": {},
    "version_major": 2,
    "version_minor": 0
   }
  }
 },
 "nbformat": 4,
 "nbformat_minor": 4
}