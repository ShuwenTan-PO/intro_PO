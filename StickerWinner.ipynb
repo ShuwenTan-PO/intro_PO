{
 "cells": [
  {
   "cell_type": "markdown",
   "id": "5b0c9389-8f89-461c-bbcd-6c21ce75b05f",
   "metadata": {},
   "source": [
    "# Before we start, spin the wheel!"
   ]
  },
  {
   "cell_type": "code",
   "execution_count": 7,
   "id": "d354bd41-7822-4f9e-8adb-8de47406b56a",
   "metadata": {},
   "outputs": [],
   "source": [
    "# wh\n",
    "import pandas as pd\n",
    "df = pd.read_csv('student_pics.csv')\n",
    "print(f\"Winner is {df.sample(n=1).values[0][1]}\")"
   ]
  },
  {
   "cell_type": "code",
   "execution_count": null,
   "id": "1c5751c4-bc32-4b31-905f-57430881ee08",
   "metadata": {},
   "outputs": [],
   "source": []
  }
 ],
 "metadata": {
  "kernelspec": {
   "display_name": "goship",
   "language": "python",
   "name": "goship"
  },
  "language_info": {
   "codemirror_mode": {
    "name": "ipython",
    "version": 3
   },
   "file_extension": ".py",
   "mimetype": "text/x-python",
   "name": "python",
   "nbconvert_exporter": "python",
   "pygments_lexer": "ipython3",
   "version": "3.9.6"
  }
 },
 "nbformat": 4,
 "nbformat_minor": 5
}
