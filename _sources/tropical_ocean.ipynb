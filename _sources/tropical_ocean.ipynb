{
 "cells": [
  {
   "cell_type": "markdown",
   "metadata": {},
   "source": [
    "# Tropical Oceans and Indonesian Throughflow"
   ]
  },
  {
   "cell_type": "markdown",
   "metadata": {},
   "source": [
    "> The physical scientist does not see\n",
    "the ocean primarily as a source of\n",
    "wealth or as a jumble of geographic\n",
    "curiosities. He sees it as a hydrodynamic\n",
    "phenomenon: larger than his\n",
    "laboratory, smaller than a star. To\n",
    "fathom its behavior, he needs detailed\n",
    "data on the velocity field in the ocean,\n",
    "from the microscales of mixing processes\n",
    "within the thermocline up to\n",
    "scales as large as the gyres of the general\n",
    "circulation. <div style=\"text-align: right\"> — Henry Stommel, 1970 </div>\n",
    "\n",
    "I'm very happy that the pronoun now is \"they\"."
   ]
  },
  {
   "cell_type": "markdown",
   "metadata": {},
   "source": [
    "## 1. $\\beta$ effect is what makes the equator fascinating"
   ]
  },
  {
   "cell_type": "markdown",
   "metadata": {},
   "source": [
    "## 2. Equatorial Currents & Indonesian Throughflow"
   ]
  },
  {
   "cell_type": "markdown",
   "metadata": {},
   "source": [
    "## 3. Equatorial Waves"
   ]
  },
  {
   "cell_type": "code",
   "execution_count": null,
   "metadata": {},
   "outputs": [],
   "source": []
  }
 ],
 "metadata": {
  "kernelspec": {
   "display_name": "Python 3 (ipykernel)",
   "language": "python",
   "name": "python3"
  },
  "language_info": {
   "codemirror_mode": {
    "name": "ipython",
    "version": 3
   },
   "file_extension": ".py",
   "mimetype": "text/x-python",
   "name": "python",
   "nbconvert_exporter": "python",
   "pygments_lexer": "ipython3",
   "version": "3.9.6"
  },
  "widgets": {
   "application/vnd.jupyter.widget-state+json": {
    "state": {},
    "version_major": 2,
    "version_minor": 0
   }
  }
 },
 "nbformat": 4,
 "nbformat_minor": 4
}
